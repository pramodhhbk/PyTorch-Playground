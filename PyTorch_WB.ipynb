{
  "nbformat": 4,
  "nbformat_minor": 0,
  "metadata": {
    "colab": {
      "provenance": [],
      "authorship_tag": "ABX9TyMuYe0jBPtvIYa5Qb72c71c",
      "include_colab_link": true
    },
    "kernelspec": {
      "name": "python3",
      "display_name": "Python 3"
    },
    "language_info": {
      "name": "python"
    }
  },
  "cells": [
    {
      "cell_type": "markdown",
      "metadata": {
        "id": "view-in-github",
        "colab_type": "text"
      },
      "source": [
        "<a href=\"https://colab.research.google.com/github/pramodhhbk/PyTorch-Playground/blob/main/PyTorch_WB.ipynb\" target=\"_parent\"><img src=\"https://colab.research.google.com/assets/colab-badge.svg\" alt=\"Open In Colab\"/></a>"
      ]
    },
    {
      "cell_type": "markdown",
      "source": [
        "**TENSORS**"
      ],
      "metadata": {
        "id": "ItQbmgzOUEKd"
      }
    },
    {
      "cell_type": "code",
      "source": [
        "## A torch.Tensor is a multi-dimensional matrix containing elements of single data type.\n",
        "## Default data type is float32\n",
        "## More suitable for DL than a numpy array"
      ],
      "metadata": {
        "id": "VAIpBX-tUJba"
      },
      "execution_count": 1,
      "outputs": []
    },
    {
      "cell_type": "code",
      "source": [
        "### LISTS\n",
        "\n",
        "my_list = [[1,2,3,4],[5,6,7,8]]\n",
        "my_list"
      ],
      "metadata": {
        "colab": {
          "base_uri": "https://localhost:8080/"
        },
        "id": "ZJAsg3-_UWdh",
        "outputId": "a3748416-b58b-44a2-e52c-fae9988d62b2"
      },
      "execution_count": 3,
      "outputs": [
        {
          "output_type": "execute_result",
          "data": {
            "text/plain": [
              "[[1, 2, 3, 4], [5, 6, 7, 8]]"
            ]
          },
          "metadata": {},
          "execution_count": 3
        }
      ]
    },
    {
      "cell_type": "code",
      "source": [
        "### Numpy Array\n",
        "import numpy as np\n",
        "\n",
        "np1 = np.random.rand(3,4)\n",
        "np1"
      ],
      "metadata": {
        "colab": {
          "base_uri": "https://localhost:8080/"
        },
        "id": "qm5pS3wQUdDf",
        "outputId": "939949b7-d45c-4b34-b4fb-35ff87095bb1"
      },
      "execution_count": 4,
      "outputs": [
        {
          "output_type": "execute_result",
          "data": {
            "text/plain": [
              "array([[0.33682218, 0.85084841, 0.97983154, 0.04316205],\n",
              "       [0.20438103, 0.01588793, 0.64966754, 0.9162728 ],\n",
              "       [0.34068917, 0.54912575, 0.44650442, 0.28750965]])"
            ]
          },
          "metadata": {},
          "execution_count": 4
        }
      ]
    },
    {
      "cell_type": "code",
      "source": [
        "np1.dtype"
      ],
      "metadata": {
        "colab": {
          "base_uri": "https://localhost:8080/"
        },
        "id": "Z7aWx3RYUyg2",
        "outputId": "902d3fb7-aa97-405c-8fb3-d58cae14122f"
      },
      "execution_count": 5,
      "outputs": [
        {
          "output_type": "execute_result",
          "data": {
            "text/plain": [
              "dtype('float64')"
            ]
          },
          "metadata": {},
          "execution_count": 5
        }
      ]
    },
    {
      "cell_type": "code",
      "source": [
        "## Tensors\n",
        "\n",
        "import torch\n",
        "\n",
        "tensor_2d = torch.randn(3,4)\n",
        "tensor_2d"
      ],
      "metadata": {
        "colab": {
          "base_uri": "https://localhost:8080/"
        },
        "id": "RpYMAa_mUzp0",
        "outputId": "c1afd848-a0bf-48c0-af7c-9662636233cd"
      },
      "execution_count": 6,
      "outputs": [
        {
          "output_type": "execute_result",
          "data": {
            "text/plain": [
              "tensor([[ 0.9586, -0.0165, -0.5962, -0.7192],\n",
              "        [ 0.8595, -0.9460, -0.8527,  0.1722],\n",
              "        [-0.7855, -0.0531, -1.3384, -2.6137]])"
            ]
          },
          "metadata": {},
          "execution_count": 6
        }
      ]
    },
    {
      "cell_type": "code",
      "source": [
        "tensor_3d = torch.zeros(3,3)\n",
        "tensor_3d"
      ],
      "metadata": {
        "colab": {
          "base_uri": "https://localhost:8080/"
        },
        "id": "rUACXudkVAf5",
        "outputId": "2b937480-dc9d-4a85-c196-a43296e0b6e0"
      },
      "execution_count": 7,
      "outputs": [
        {
          "output_type": "execute_result",
          "data": {
            "text/plain": [
              "tensor([[0., 0., 0.],\n",
              "        [0., 0., 0.],\n",
              "        [0., 0., 0.]])"
            ]
          },
          "metadata": {},
          "execution_count": 7
        }
      ]
    },
    {
      "cell_type": "code",
      "source": [
        "### Create tensor out of np array\n",
        "\n",
        "my_tensor = torch.tensor(np1)\n",
        "my_tensor"
      ],
      "metadata": {
        "colab": {
          "base_uri": "https://localhost:8080/"
        },
        "id": "kqbLnwidVH56",
        "outputId": "a29fe300-0a0d-4617-f89d-3fdaecef2880"
      },
      "execution_count": 8,
      "outputs": [
        {
          "output_type": "execute_result",
          "data": {
            "text/plain": [
              "tensor([[0.3368, 0.8508, 0.9798, 0.0432],\n",
              "        [0.2044, 0.0159, 0.6497, 0.9163],\n",
              "        [0.3407, 0.5491, 0.4465, 0.2875]], dtype=torch.float64)"
            ]
          },
          "metadata": {},
          "execution_count": 8
        }
      ]
    },
    {
      "cell_type": "code",
      "source": [],
      "metadata": {
        "id": "4QWbQNUlVOHB"
      },
      "execution_count": null,
      "outputs": []
    }
  ]
}